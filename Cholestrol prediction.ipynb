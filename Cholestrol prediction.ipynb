{
 "cells": [
  {
   "cell_type": "code",
   "execution_count": 105,
   "metadata": {},
   "outputs": [],
   "source": [
    "import numpy as np\n",
    "import pandas as pd\n",
    "import matplotlib.pyplot as plt\n",
    "from sklearn.model_selection import train_test_split\n",
    "from sklearn import preprocessing\n",
    "from sklearn.linear_model import LogisticRegression\n",
    "from sklearn.metrics import classification_report\n",
    "from sklearn.metrics import confusion_matrix\n",
    "from sklearn.metrics import recall_score\n",
    "import xgboost as xgb"
   ]
  },
  {
   "cell_type": "code",
   "execution_count": 2,
   "metadata": {},
   "outputs": [],
   "source": [
    "features = pd.read_excel('Feature_Selection.xlsx')"
   ]
  },
  {
   "cell_type": "code",
   "execution_count": 3,
   "metadata": {},
   "outputs": [
    {
     "data": {
      "text/html": [
       "<div>\n",
       "<style scoped>\n",
       "    .dataframe tbody tr th:only-of-type {\n",
       "        vertical-align: middle;\n",
       "    }\n",
       "\n",
       "    .dataframe tbody tr th {\n",
       "        vertical-align: top;\n",
       "    }\n",
       "\n",
       "    .dataframe thead th {\n",
       "        text-align: right;\n",
       "    }\n",
       "</style>\n",
       "<table border=\"1\" class=\"dataframe\">\n",
       "  <thead>\n",
       "    <tr style=\"text-align: right;\">\n",
       "      <th></th>\n",
       "      <th>Feature Name</th>\n",
       "      <th>Code Name</th>\n",
       "      <th>Missing Values</th>\n",
       "    </tr>\n",
       "  </thead>\n",
       "  <tbody>\n",
       "    <tr>\n",
       "      <th>0</th>\n",
       "      <td>Are you currently on any kind of diet, either ...</td>\n",
       "      <td>DRQSDIET</td>\n",
       "      <td>677</td>\n",
       "    </tr>\n",
       "    <tr>\n",
       "      <th>1</th>\n",
       "      <td>Total number of foods/beverages reported in th...</td>\n",
       "      <td>DR1TNUMF</td>\n",
       "      <td>727</td>\n",
       "    </tr>\n",
       "    <tr>\n",
       "      <th>2</th>\n",
       "      <td>Energy (kcal)</td>\n",
       "      <td>DR1TKCAL</td>\n",
       "      <td>727</td>\n",
       "    </tr>\n",
       "    <tr>\n",
       "      <th>3</th>\n",
       "      <td>Protein (gm)</td>\n",
       "      <td>DR1TPROT</td>\n",
       "      <td>727</td>\n",
       "    </tr>\n",
       "    <tr>\n",
       "      <th>4</th>\n",
       "      <td>Carbohydrate (gm)</td>\n",
       "      <td>DR1TCARB</td>\n",
       "      <td>727</td>\n",
       "    </tr>\n",
       "  </tbody>\n",
       "</table>\n",
       "</div>"
      ],
      "text/plain": [
       "                                        Feature Name Code Name  Missing Values\n",
       "0  Are you currently on any kind of diet, either ...  DRQSDIET             677\n",
       "1  Total number of foods/beverages reported in th...  DR1TNUMF             727\n",
       "2                                      Energy (kcal)  DR1TKCAL             727\n",
       "3                                       Protein (gm)  DR1TPROT             727\n",
       "4                                  Carbohydrate (gm)  DR1TCARB             727"
      ]
     },
     "execution_count": 3,
     "metadata": {},
     "output_type": "execute_result"
    }
   ],
   "source": [
    "features.head()"
   ]
  },
  {
   "cell_type": "code",
   "execution_count": 4,
   "metadata": {},
   "outputs": [],
   "source": [
    "code_names = features.loc[:,'Code Name'].to_list()"
   ]
  },
  {
   "cell_type": "code",
   "execution_count": 37,
   "metadata": {},
   "outputs": [],
   "source": [
    "code_names.append('SEQN')"
   ]
  },
  {
   "cell_type": "code",
   "execution_count": 6,
   "metadata": {},
   "outputs": [],
   "source": [
    "df_labs = pd.read_csv('labs.csv', low_memory = False)\n",
    "df_diet = pd.read_csv('diet.csv', low_memory = False)"
   ]
  },
  {
   "cell_type": "code",
   "execution_count": 7,
   "metadata": {},
   "outputs": [],
   "source": [
    "df_labs = df_labs[['SEQN', 'LBXTC']]"
   ]
  },
  {
   "cell_type": "code",
   "execution_count": 8,
   "metadata": {},
   "outputs": [],
   "source": [
    "df_diet = df_diet[code_names]"
   ]
  },
  {
   "cell_type": "code",
   "execution_count": 9,
   "metadata": {},
   "outputs": [],
   "source": [
    "df = pd.merge(df_labs,df_diet)"
   ]
  },
  {
   "cell_type": "markdown",
   "metadata": {},
   "source": [
    "Target variable is cholestrol value from lab data"
   ]
  },
  {
   "cell_type": "code",
   "execution_count": 10,
   "metadata": {},
   "outputs": [
    {
     "data": {
      "text/plain": [
       "2189"
      ]
     },
     "execution_count": 10,
     "metadata": {},
     "output_type": "execute_result"
    }
   ],
   "source": [
    "df['LBXTC'].isnull().sum()"
   ]
  },
  {
   "cell_type": "markdown",
   "metadata": {},
   "source": [
    "Dropping the rows with null target variable value"
   ]
  },
  {
   "cell_type": "code",
   "execution_count": 11,
   "metadata": {},
   "outputs": [],
   "source": [
    "df.dropna(axis = 0, subset= ['LBXTC'], inplace = True)"
   ]
  },
  {
   "cell_type": "code",
   "execution_count": 12,
   "metadata": {},
   "outputs": [
    {
     "data": {
      "text/plain": [
       "SEQN          0\n",
       "LBXTC         0\n",
       "DRQSDIET    677\n",
       "DR1TNUMF    727\n",
       "DR1TKCAL    727\n",
       "DR1TPROT    727\n",
       "DR1TCARB    727\n",
       "DR1TSUGR    727\n",
       "DR1TFIBE    727\n",
       "DR1TTFAT    727\n",
       "DR1TSFAT    727\n",
       "DR1TMFAT    727\n",
       "DR1TPFAT    727\n",
       "DR1TCHOL    727\n",
       "DR1TATOC    727\n",
       "DR1TATOA    727\n",
       "DR1TACAR    727\n",
       "DR1TBCAR    727\n",
       "DR1TNIAC    727\n",
       "DR1TFOLA    727\n",
       "DR1TFA      727\n",
       "DR1TCHL     727\n",
       "DR1TCALC    727\n",
       "DR1TPHOS    727\n",
       "DR1TMAGN    727\n",
       "DR1TCOPP    727\n",
       "DR1TPOTA    727\n",
       "DR1TTHEO    727\n",
       "DR1TALCO    727\n",
       "DRD340      673\n",
       "dtype: int64"
      ]
     },
     "execution_count": 12,
     "metadata": {},
     "output_type": "execute_result"
    }
   ],
   "source": [
    "df.isnull().sum()"
   ]
  },
  {
   "cell_type": "code",
   "execution_count": 14,
   "metadata": {},
   "outputs": [],
   "source": [
    "#all data types are str; converting to float\n",
    "df = df.apply(lambda x: x.astype(float),axis = 0)"
   ]
  },
  {
   "cell_type": "code",
   "execution_count": 15,
   "metadata": {},
   "outputs": [],
   "source": [
    "df = df.apply(lambda x: x.fillna(x.mean(),axis = 0))"
   ]
  },
  {
   "cell_type": "code",
   "execution_count": 26,
   "metadata": {},
   "outputs": [
    {
     "data": {
      "text/html": [
       "<div>\n",
       "<style scoped>\n",
       "    .dataframe tbody tr th:only-of-type {\n",
       "        vertical-align: middle;\n",
       "    }\n",
       "\n",
       "    .dataframe tbody tr th {\n",
       "        vertical-align: top;\n",
       "    }\n",
       "\n",
       "    .dataframe thead th {\n",
       "        text-align: right;\n",
       "    }\n",
       "</style>\n",
       "<table border=\"1\" class=\"dataframe\">\n",
       "  <thead>\n",
       "    <tr style=\"text-align: right;\">\n",
       "      <th></th>\n",
       "      <th>SEQN</th>\n",
       "      <th>LBXTC</th>\n",
       "      <th>DRQSDIET</th>\n",
       "      <th>DR1TNUMF</th>\n",
       "      <th>DR1TKCAL</th>\n",
       "      <th>DR1TPROT</th>\n",
       "      <th>DR1TCARB</th>\n",
       "      <th>DR1TSUGR</th>\n",
       "      <th>DR1TFIBE</th>\n",
       "      <th>DR1TTFAT</th>\n",
       "      <th>...</th>\n",
       "      <th>DR1TFA</th>\n",
       "      <th>DR1TCHL</th>\n",
       "      <th>DR1TCALC</th>\n",
       "      <th>DR1TPHOS</th>\n",
       "      <th>DR1TMAGN</th>\n",
       "      <th>DR1TCOPP</th>\n",
       "      <th>DR1TPOTA</th>\n",
       "      <th>DR1TTHEO</th>\n",
       "      <th>DR1TALCO</th>\n",
       "      <th>DRD340</th>\n",
       "    </tr>\n",
       "  </thead>\n",
       "  <tbody>\n",
       "    <tr>\n",
       "      <th>0</th>\n",
       "      <td>73557.0</td>\n",
       "      <td>167.0</td>\n",
       "      <td>2.0</td>\n",
       "      <td>11.0</td>\n",
       "      <td>1574.0</td>\n",
       "      <td>43.63</td>\n",
       "      <td>239.59</td>\n",
       "      <td>176.47</td>\n",
       "      <td>10.8</td>\n",
       "      <td>52.81</td>\n",
       "      <td>...</td>\n",
       "      <td>66.0</td>\n",
       "      <td>216.3</td>\n",
       "      <td>949.0</td>\n",
       "      <td>756.0</td>\n",
       "      <td>206.0</td>\n",
       "      <td>1.072</td>\n",
       "      <td>2228.0</td>\n",
       "      <td>36.0</td>\n",
       "      <td>0.0</td>\n",
       "      <td>2.0</td>\n",
       "    </tr>\n",
       "    <tr>\n",
       "      <th>1</th>\n",
       "      <td>73558.0</td>\n",
       "      <td>170.0</td>\n",
       "      <td>2.0</td>\n",
       "      <td>8.0</td>\n",
       "      <td>5062.0</td>\n",
       "      <td>338.13</td>\n",
       "      <td>423.78</td>\n",
       "      <td>44.99</td>\n",
       "      <td>16.7</td>\n",
       "      <td>124.29</td>\n",
       "      <td>...</td>\n",
       "      <td>601.0</td>\n",
       "      <td>2149.0</td>\n",
       "      <td>3193.0</td>\n",
       "      <td>6427.0</td>\n",
       "      <td>903.0</td>\n",
       "      <td>4.130</td>\n",
       "      <td>4930.0</td>\n",
       "      <td>0.0</td>\n",
       "      <td>119.0</td>\n",
       "      <td>1.0</td>\n",
       "    </tr>\n",
       "    <tr>\n",
       "      <th>2</th>\n",
       "      <td>73559.0</td>\n",
       "      <td>126.0</td>\n",
       "      <td>1.0</td>\n",
       "      <td>27.0</td>\n",
       "      <td>1743.0</td>\n",
       "      <td>64.61</td>\n",
       "      <td>224.39</td>\n",
       "      <td>102.90</td>\n",
       "      <td>9.9</td>\n",
       "      <td>65.97</td>\n",
       "      <td>...</td>\n",
       "      <td>290.0</td>\n",
       "      <td>161.2</td>\n",
       "      <td>877.0</td>\n",
       "      <td>1198.0</td>\n",
       "      <td>210.0</td>\n",
       "      <td>0.949</td>\n",
       "      <td>1694.0</td>\n",
       "      <td>71.0</td>\n",
       "      <td>0.0</td>\n",
       "      <td>1.0</td>\n",
       "    </tr>\n",
       "    <tr>\n",
       "      <th>3</th>\n",
       "      <td>73560.0</td>\n",
       "      <td>168.0</td>\n",
       "      <td>2.0</td>\n",
       "      <td>19.0</td>\n",
       "      <td>1490.0</td>\n",
       "      <td>77.75</td>\n",
       "      <td>162.92</td>\n",
       "      <td>80.58</td>\n",
       "      <td>10.6</td>\n",
       "      <td>58.27</td>\n",
       "      <td>...</td>\n",
       "      <td>126.0</td>\n",
       "      <td>268.9</td>\n",
       "      <td>1521.0</td>\n",
       "      <td>1495.0</td>\n",
       "      <td>183.0</td>\n",
       "      <td>0.542</td>\n",
       "      <td>2088.0</td>\n",
       "      <td>0.0</td>\n",
       "      <td>0.0</td>\n",
       "      <td>2.0</td>\n",
       "    </tr>\n",
       "    <tr>\n",
       "      <th>4</th>\n",
       "      <td>73561.0</td>\n",
       "      <td>201.0</td>\n",
       "      <td>1.0</td>\n",
       "      <td>7.0</td>\n",
       "      <td>1421.0</td>\n",
       "      <td>55.24</td>\n",
       "      <td>178.20</td>\n",
       "      <td>87.78</td>\n",
       "      <td>12.3</td>\n",
       "      <td>55.36</td>\n",
       "      <td>...</td>\n",
       "      <td>389.0</td>\n",
       "      <td>218.1</td>\n",
       "      <td>1410.0</td>\n",
       "      <td>1182.0</td>\n",
       "      <td>396.0</td>\n",
       "      <td>1.984</td>\n",
       "      <td>1445.0</td>\n",
       "      <td>0.0</td>\n",
       "      <td>0.0</td>\n",
       "      <td>1.0</td>\n",
       "    </tr>\n",
       "  </tbody>\n",
       "</table>\n",
       "<p>5 rows × 30 columns</p>\n",
       "</div>"
      ],
      "text/plain": [
       "      SEQN  LBXTC  DRQSDIET  DR1TNUMF  DR1TKCAL  DR1TPROT  DR1TCARB  DR1TSUGR  \\\n",
       "0  73557.0  167.0       2.0      11.0    1574.0     43.63    239.59    176.47   \n",
       "1  73558.0  170.0       2.0       8.0    5062.0    338.13    423.78     44.99   \n",
       "2  73559.0  126.0       1.0      27.0    1743.0     64.61    224.39    102.90   \n",
       "3  73560.0  168.0       2.0      19.0    1490.0     77.75    162.92     80.58   \n",
       "4  73561.0  201.0       1.0       7.0    1421.0     55.24    178.20     87.78   \n",
       "\n",
       "   DR1TFIBE  DR1TTFAT  ...  DR1TFA  DR1TCHL  DR1TCALC  DR1TPHOS  DR1TMAGN  \\\n",
       "0      10.8     52.81  ...    66.0    216.3     949.0     756.0     206.0   \n",
       "1      16.7    124.29  ...   601.0   2149.0    3193.0    6427.0     903.0   \n",
       "2       9.9     65.97  ...   290.0    161.2     877.0    1198.0     210.0   \n",
       "3      10.6     58.27  ...   126.0    268.9    1521.0    1495.0     183.0   \n",
       "4      12.3     55.36  ...   389.0    218.1    1410.0    1182.0     396.0   \n",
       "\n",
       "   DR1TCOPP  DR1TPOTA  DR1TTHEO  DR1TALCO  DRD340  \n",
       "0     1.072    2228.0      36.0       0.0     2.0  \n",
       "1     4.130    4930.0       0.0     119.0     1.0  \n",
       "2     0.949    1694.0      71.0       0.0     1.0  \n",
       "3     0.542    2088.0       0.0       0.0     2.0  \n",
       "4     1.984    1445.0       0.0       0.0     1.0  \n",
       "\n",
       "[5 rows x 30 columns]"
      ]
     },
     "execution_count": 26,
     "metadata": {},
     "output_type": "execute_result"
    }
   ],
   "source": [
    "df.head()"
   ]
  },
  {
   "cell_type": "code",
   "execution_count": 45,
   "metadata": {},
   "outputs": [],
   "source": [
    "target = np.where([x > 200 for x in df['LBXTC']],1,0)\n",
    "data = df.iloc[:,2:]"
   ]
  },
  {
   "cell_type": "markdown",
   "metadata": {},
   "source": [
    "**3 Exploratory Data Analysis**"
   ]
  },
  {
   "cell_type": "code",
   "execution_count": 57,
   "metadata": {},
   "outputs": [],
   "source": [
    "class_1 = [x for x in target if x == 1]\n",
    "class_0 = [x for x in target if x == 0]"
   ]
  },
  {
   "cell_type": "code",
   "execution_count": 79,
   "metadata": {},
   "outputs": [
    {
     "data": {
      "image/png": "[encoded data removed]",
      "text/plain": [
       "<Figure size 432x288 with 1 Axes>"
      ]
     },
     "metadata": {},
     "output_type": "display_data"
    }
   ],
   "source": [
    "plt.pie([len(class_1), len(class_0)], labels = ['High', 'Normal'], explode = (0.1,0), autopct='%1.1f%%')\n",
    "plt.title('Classification on basis of cholestrol levels')\n",
    "plt.show()"
   ]
  },
  {
   "cell_type": "code",
   "execution_count": 25,
   "metadata": {},
   "outputs": [
    {
     "name": "stdout",
     "output_type": "stream",
     "text": [
      "High cholestrol 2073\n",
      "Normal cholestrol class 5487\n"
     ]
    }
   ],
   "source": [
    "print(\"High cholestrol\",len(class_1))\n",
    "print(\"Normal cholestrol class\",len(class_0))"
   ]
  },
  {
   "cell_type": "markdown",
   "metadata": {},
   "source": [
    "Standardize data"
   ]
  },
  {
   "cell_type": "code",
   "execution_count": 30,
   "metadata": {},
   "outputs": [],
   "source": [
    "scaler = preprocessing.StandardScaler()\n",
    "data_std = scaler.fit_transform(data)"
   ]
  },
  {
   "cell_type": "code",
   "execution_count": 36,
   "metadata": {},
   "outputs": [
    {
     "data": {
      "text/plain": [
       "(7624, 28)"
      ]
     },
     "execution_count": 36,
     "metadata": {},
     "output_type": "execute_result"
    }
   ],
   "source": [
    "data_std.shape"
   ]
  },
  {
   "cell_type": "code",
   "execution_count": 93,
   "metadata": {},
   "outputs": [],
   "source": [
    "X_train, X_test, y_train, y_test = train_test_split(data_std, target, test_size=0.4, random_state = 2)"
   ]
  },
  {
   "cell_type": "markdown",
   "metadata": {},
   "source": [
    "**5.1 Logistic Regression with L1**"
   ]
  },
  {
   "cell_type": "code",
   "execution_count": 100,
   "metadata": {},
   "outputs": [],
   "source": [
    "model_lr_l1 = LogisticRegression(penalty = 'l1', C = 1, solver = 'saga', max_iter = 1000)\n",
    "model_lr_l1.fit(X_train, y_train)\n",
    "pred = model_lr_l1.predict(X_test)"
   ]
  },
  {
   "cell_type": "code",
   "execution_count": 104,
   "metadata": {},
   "outputs": [
    {
     "name": "stdout",
     "output_type": "stream",
     "text": [
      "Recall:  0.01680672268907563\n"
     ]
    }
   ],
   "source": [
    "print(\"Recall: \", recall_score(y_test, pred))"
   ]
  },
  {
   "cell_type": "code",
   "execution_count": 101,
   "metadata": {},
   "outputs": [
    {
     "name": "stdout",
     "output_type": "stream",
     "text": [
      "              precision    recall  f1-score   support\n",
      "\n",
      "           0       0.73      0.99      0.84      2217\n",
      "           1       0.42      0.02      0.03       833\n",
      "\n",
      "    accuracy                           0.73      3050\n",
      "   macro avg       0.58      0.50      0.44      3050\n",
      "weighted avg       0.65      0.73      0.62      3050\n",
      "\n"
     ]
    }
   ],
   "source": [
    "print(classification_report(y_test, pred))"
   ]
  },
  {
   "cell_type": "code",
   "execution_count": 102,
   "metadata": {},
   "outputs": [
    {
     "name": "stdout",
     "output_type": "stream",
     "text": [
      "[[2198   19]\n",
      " [ 819   14]]\n"
     ]
    }
   ],
   "source": [
    "print(confusion_matrix(y_test,pred, labels = [0,1]))"
   ]
  },
  {
   "cell_type": "markdown",
   "metadata": {},
   "source": [
    "**5.2 Logistic regression with l2 and feature importance**"
   ]
  },
  {
   "cell_type": "markdown",
   "metadata": {},
   "source": [
    "**6 Random Forest and XGBoost**\n"
   ]
  },
  {
   "cell_type": "code",
   "execution_count": 106,
   "metadata": {},
   "outputs": [],
   "source": [
    "dtrain = xgb.DMatrix(X_train, label=y_train)\n",
    "dtest = xgb.DMatrix(X_test, label=y_test)"
   ]
  },
  {
   "cell_type": "code",
   "execution_count": 143,
   "metadata": {},
   "outputs": [],
   "source": [
    "param = {\n",
    "    'eta': 0.8, \n",
    "    'max_depth': 10,  \n",
    "    'objective': 'multi:softprob',  \n",
    "    'num_class': 2} \n",
    "\n",
    "steps = 20 "
   ]
  },
  {
   "cell_type": "code",
   "execution_count": 144,
   "metadata": {},
   "outputs": [],
   "source": [
    "model_xgb = xgb.train(param, dtrain, steps)"
   ]
  },
  {
   "cell_type": "code",
   "execution_count": 145,
   "metadata": {},
   "outputs": [],
   "source": [
    "preds = model_xgb.predict(dtest)\n",
    "best_preds = np.asarray([np.argmax(line) for line in preds])"
   ]
  },
  {
   "cell_type": "code",
   "execution_count": 146,
   "metadata": {},
   "outputs": [
    {
     "name": "stdout",
     "output_type": "stream",
     "text": [
      "Recall:  0.1608643457382953\n"
     ]
    }
   ],
   "source": [
    "print(\"Recall: \", recall_score(y_test,best_preds))"
   ]
  },
  {
   "cell_type": "markdown",
   "metadata": {},
   "source": [
    "**7 Fine Tuning (can use grid_search_cv)**"
   ]
  },
  {
   "cell_type": "markdown",
   "metadata": {},
   "source": [
    "**8 Cluster models**"
   ]
  },
  {
   "cell_type": "code",
   "execution_count": null,
   "metadata": {},
   "outputs": [],
   "source": []
  }
 ],
 "metadata": {
  "kernelspec": {
   "display_name": "Python 3",
   "language": "python",
   "name": "python3"
  },
  "language_info": {
   "codemirror_mode": {
    "name": "ipython",
    "version": 3
   },
   "file_extension": ".py",
   "mimetype": "text/x-python",
   "name": "python",
   "nbconvert_exporter": "python",
   "pygments_lexer": "ipython3",
   "version": "3.7.3"
  }
 },
 "nbformat": 4,
 "nbformat_minor": 2
}
